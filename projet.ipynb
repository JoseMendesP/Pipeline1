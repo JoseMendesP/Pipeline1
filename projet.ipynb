{
 "cells": [
  {
   "cell_type": "code",
   "execution_count": 1,
   "metadata": {},
   "outputs": [],
   "source": [
    "from peewee import Model, AutoField, IntegerField, DateField, CharField\n",
    "import pymysql\n",
    "from playhouse.mysql_ext import MySQLDatabase"
   ]
  },
  {
   "cell_type": "markdown",
   "metadata": {},
   "source": [
    "Étape 2: Extraction des données"
   ]
  },
  {
   "cell_type": "code",
   "execution_count": 2,
   "metadata": {},
   "outputs": [
    {
     "data": {
      "text/plain": [
       "True"
      ]
     },
     "execution_count": 2,
     "metadata": {},
     "output_type": "execute_result"
    }
   ],
   "source": [
    "db = MySQLDatabase('ecole',user='root', password='root',host='localhost', port=3306)\n",
    "\n",
    "class BaseModel(Model):\n",
    "    class Meta:\n",
    "        database = db\n",
    "\n",
    "class etudiant(BaseModel):\n",
    "    student_id = AutoField()\n",
    "    prenom = CharField() \n",
    "    nom = CharField()\n",
    "    numero_salle = IntegerField()\n",
    "    telephone = IntegerField()\n",
    "    email = CharField() \n",
    "    annee_obtention = DateField()\n",
    "    numero_classe = IntegerField()\n",
    "\n",
    "class enseignants(BaseModel):\n",
    "    teacher_id = AutoField()\n",
    "    prenom = CharField() \n",
    "    nom = CharField()\n",
    "    numero_salle = IntegerField()\n",
    "    departement = CharField()\n",
    "    annee_obtention = DateField()\n",
    "    email = CharField()\n",
    "    telephone = IntegerField() \n",
    "    numero_classe = IntegerField()\n",
    "\n",
    "db.connect()"
   ]
  },
  {
   "cell_type": "code",
   "execution_count": 3,
   "metadata": {},
   "outputs": [
    {
     "name": "stdout",
     "output_type": "stream",
     "text": [
      "1 Jonas\n",
      "2 Jean\n",
      "3 Marie\n",
      "4 Pierre\n",
      "5 Laura\n",
      "6 Paul\n",
      "7 Lucie\n",
      "8 David\n",
      "9 Julie\n",
      "10 Antoine\n",
      "11 Sophie\n",
      "12 Marc\n",
      "13 Claire\n",
      "14 Jacques\n",
      "15 Caroline\n",
      "16 Nicolas\n",
      "17 Emma\n",
      "18 Lucas\n",
      "19 Hélène\n",
      "20 Philippe\n",
      "21 Manon\n",
      "22 Julien\n",
      "23 Camille\n",
      "24 Vincent\n",
      "25 Alice\n",
      "26 Maxime\n",
      "27 Elodie\n",
      "28 Yann\n",
      "29 Florence\n",
      "30 Guillaume\n",
      "31 Isabelle\n",
      "32 Olivier\n",
      "33 Céline\n",
      "34 Alexandre\n",
      "35 Valérie\n",
      "36 François\n",
      "37 Chloé\n",
      "38 Adrien\n",
      "39 Amandine\n",
      "40 Victor\n",
      "41 Sandrine\n",
      "42 Eric\n",
      "43 Amélie\n",
      "44 Thierry\n",
      "45 Inès\n",
      "46 Christophe\n",
      "47 Nathalie\n",
      "48 Damien\n"
     ]
    }
   ],
   "source": [
    "enseign = enseignants.select()\n",
    "for e in enseign:\n",
    "    print(e.teacher_id, e.prenom)"
   ]
  },
  {
   "cell_type": "markdown",
   "metadata": {},
   "source": [
    "Etape 2 Extraction des données"
   ]
  },
  {
   "cell_type": "markdown",
   "metadata": {},
   "source": [
    "Table Enseignants"
   ]
  },
  {
   "cell_type": "code",
   "execution_count": 4,
   "metadata": {},
   "outputs": [
    {
     "name": "stdout",
     "output_type": "stream",
     "text": [
      "{'teacher_id': 1, 'prenom': 'Jonas', 'nom': 'SALK', 'numero_salle': 2, 'departement': 'biologie', 'annee_obtention': datetime.date(2024, 7, 17), 'email': ' jsalk@school.org', 'telephone': '777-555-4321', 'numero_classe': 5}\n",
      "{'teacher_id': 2, 'prenom': 'Jean', 'nom': 'Dupont', 'numero_salle': 101, 'departement': 'Mathématiques', 'annee_obtention': datetime.date(2005, 6, 15), 'email': 'jean.dupont@mail.com', 'telephone': '0600000001', 'numero_classe': 1}\n",
      "{'teacher_id': 3, 'prenom': 'Marie', 'nom': 'Martin', 'numero_salle': 102, 'departement': 'Histoire', 'annee_obtention': datetime.date(2008, 5, 22), 'email': 'marie.martin@mail.com', 'telephone': '0600000002', 'numero_classe': 1}\n",
      "{'teacher_id': 4, 'prenom': 'Pierre', 'nom': 'Durand', 'numero_salle': 103, 'departement': 'Physique', 'annee_obtention': datetime.date(2009, 7, 10), 'email': 'pierre.durand@mail.com', 'telephone': '0600000003', 'numero_classe': 2}\n",
      "{'teacher_id': 5, 'prenom': 'Laura', 'nom': 'Bernard', 'numero_salle': 104, 'departement': 'Chimie', 'annee_obtention': datetime.date(2010, 4, 18), 'email': 'laura.bernard@mail.com', 'telephone': '0600000004', 'numero_classe': 2}\n",
      "{'teacher_id': 6, 'prenom': 'Paul', 'nom': 'Moreau', 'numero_salle': 105, 'departement': 'Anglais', 'annee_obtention': datetime.date(2011, 3, 5), 'email': 'paul.moreau@mail.com', 'telephone': '0600000005', 'numero_classe': 3}\n",
      "{'teacher_id': 7, 'prenom': 'Lucie', 'nom': 'Petit', 'numero_salle': 106, 'departement': 'Mathématiques', 'annee_obtention': datetime.date(2012, 2, 11), 'email': 'lucie.petit@mail.com', 'telephone': '0600000006', 'numero_classe': 3}\n",
      "{'teacher_id': 8, 'prenom': 'David', 'nom': 'Robert', 'numero_salle': 107, 'departement': 'Géographie', 'annee_obtention': datetime.date(2013, 8, 25), 'email': 'david.robert@mail.com', 'telephone': '0600000007', 'numero_classe': 4}\n",
      "{'teacher_id': 9, 'prenom': 'Julie', 'nom': 'Richard', 'numero_salle': 108, 'departement': 'Biologie', 'annee_obtention': datetime.date(2014, 9, 19), 'email': 'julie.richard@mail.com', 'telephone': '0600000008', 'numero_classe': 4}\n",
      "{'teacher_id': 10, 'prenom': 'Antoine', 'nom': 'Simon', 'numero_salle': 109, 'departement': 'Physique', 'annee_obtention': datetime.date(2015, 10, 3), 'email': 'antoine.simon@mail.com', 'telephone': '0600000009', 'numero_classe': 5}\n"
     ]
    }
   ],
   "source": [
    "connection = pymysql.connect(database='ecole', user='root', password='root', host='localhost')\n",
    "cursor = connection.cursor()\n",
    "\n",
    "\n",
    "cursor.execute(\"SELECT * FROM enseignants\")\n",
    "resultat = cursor.fetchmany(10)\n",
    "colonnes = [desc[0] for desc in cursor.description]\n",
    "enseignants_dict= [dict(zip(colonnes, enseignants )) for enseignants in resultat]\n",
    "\n",
    "for e in enseignants_dict:\n",
    "    print(e)\n",
    "\n",
    "\n",
    "cursor.close()\n",
    "connection.close()"
   ]
  },
  {
   "cell_type": "markdown",
   "metadata": {},
   "source": [
    "Table Etudiants"
   ]
  },
  {
   "cell_type": "code",
   "execution_count": 5,
   "metadata": {},
   "outputs": [
    {
     "name": "stdout",
     "output_type": "stream",
     "text": [
      "{'student_id': 1, 'prenom': 'Alice', 'nom': 'Martin', 'numero_salle': 101, 'telephone': 600000001, 'email': 'alice.martin@mail.com', 'annee_obtention': datetime.date(2020, 6, 15), 'numero_classe': 1}\n",
      "{'student_id': 2, 'prenom': 'Thomas', 'nom': 'Dupont', 'numero_salle': 102, 'telephone': 600000002, 'email': 'thomas.dupont@mail.com', 'annee_obtention': datetime.date(2021, 6, 20), 'numero_classe': 1}\n",
      "{'student_id': 3, 'prenom': 'Camille', 'nom': 'Bernard', 'numero_salle': 103, 'telephone': 600000003, 'email': 'camille.bernard@mail.com', 'annee_obtention': datetime.date(2022, 7, 10), 'numero_classe': 2}\n",
      "{'student_id': 4, 'prenom': 'Lucas', 'nom': 'Durand', 'numero_salle': 104, 'telephone': 600000004, 'email': 'lucas.durand@mail.com', 'annee_obtention': datetime.date(2023, 5, 15), 'numero_classe': 2}\n",
      "{'student_id': 5, 'prenom': 'Emma', 'nom': 'Moreau', 'numero_salle': 105, 'telephone': 600000005, 'email': 'emma.moreau@mail.com', 'annee_obtention': datetime.date(2024, 9, 1), 'numero_classe': 3}\n",
      "{'student_id': 6, 'prenom': 'Maxime', 'nom': 'Petit', 'numero_salle': 106, 'telephone': 600000006, 'email': 'maxime.petit@mail.com', 'annee_obtention': datetime.date(2025, 3, 10), 'numero_classe': 3}\n",
      "{'student_id': 7, 'prenom': 'Julie', 'nom': 'Richard', 'numero_salle': 107, 'telephone': 600000007, 'email': 'julie.richard@mail.com', 'annee_obtention': datetime.date(2026, 4, 20), 'numero_classe': 4}\n",
      "{'student_id': 8, 'prenom': 'Antoine', 'nom': 'Robert', 'numero_salle': 108, 'telephone': 600000008, 'email': 'antoine.robert@mail.com', 'annee_obtention': datetime.date(2027, 5, 12), 'numero_classe': 4}\n",
      "{'student_id': 9, 'prenom': 'Marie', 'nom': 'Simon', 'numero_salle': 109, 'telephone': 600000009, 'email': 'marie.simon@mail.com', 'annee_obtention': datetime.date(2028, 6, 10), 'numero_classe': 5}\n",
      "{'student_id': 10, 'prenom': 'Paul', 'nom': 'Lefebvre', 'numero_salle': 110, 'telephone': 600000010, 'email': 'paul.lefebvre@mail.com', 'annee_obtention': datetime.date(2029, 7, 18), 'numero_classe': 5}\n"
     ]
    }
   ],
   "source": [
    "connection = pymysql.connect(database='ecole', user='root', password='root', host='localhost')\n",
    "cursor = connection.cursor()\n",
    "\n",
    "\n",
    "cursor.execute(\"SELECT * FROM etudiants\")\n",
    "resultat = cursor.fetchmany(10)\n",
    "colonnes = [desc[0] for desc in cursor.description]\n",
    "etudiants_dict= [dict(zip(colonnes, enseignants )) for enseignants in resultat]\n",
    "\n",
    "for elev in etudiants_dict:\n",
    "    print(elev)\n",
    "\n",
    "cursor.close()\n",
    "connection.close()"
   ]
  },
  {
   "cell_type": "markdown",
   "metadata": {},
   "source": [
    "Etape 3 Manipulation des données"
   ]
  },
  {
   "cell_type": "code",
   "execution_count": 6,
   "metadata": {},
   "outputs": [
    {
     "name": "stdout",
     "output_type": "stream",
     "text": [
      "etudiant : Alice, numero classe : 1, enseignant : Dupont\n",
      "etudiant : Alice, numero classe : 1, enseignant : Martin\n",
      "etudiant : Thomas, numero classe : 1, enseignant : Dupont\n",
      "etudiant : Thomas, numero classe : 1, enseignant : Martin\n",
      "etudiant : Camille, numero classe : 2, enseignant : Durand\n",
      "etudiant : Camille, numero classe : 2, enseignant : Bernard\n",
      "etudiant : Lucas, numero classe : 2, enseignant : Durand\n",
      "etudiant : Lucas, numero classe : 2, enseignant : Bernard\n",
      "etudiant : Emma, numero classe : 3, enseignant : Moreau\n",
      "etudiant : Emma, numero classe : 3, enseignant : Petit\n"
     ]
    }
   ],
   "source": [
    "associe_dict=[]\n",
    "limite =0\n",
    "\n",
    "for a in etudiants_dict:\n",
    "    for b in enseignants_dict:\n",
    "        if a[\"numero_classe\"]==b[\"numero_classe\"]:\n",
    "            associe_dict.append({\n",
    "                \"prenom\":a[\"prenom\"],\n",
    "                \"numero classe\":a[\"numero_classe\"],\n",
    "                \"enseignant\":b[\"nom\"]\n",
    "             })\n",
    "\n",
    "for c in associe_dict:\n",
    "    print(f\"etudiant : {c['prenom']}, numero classe : {c['numero classe']}, enseignant : {c['enseignant']}\")\n",
    "    limite +=1\n",
    "    if limite ==10:\n",
    "        break"
   ]
  },
  {
   "cell_type": "markdown",
   "metadata": {},
   "source": [
    "Etape 4 Analyse des données"
   ]
  },
  {
   "cell_type": "code",
   "execution_count": 7,
   "metadata": {},
   "outputs": [
    {
     "name": "stdout",
     "output_type": "stream",
     "text": [
      "Enseignant : SALK, Nombre d'élèves : 3\n",
      "Enseignant : Durand, Nombre d'élèves : 1\n",
      "Enseignant : Bernard, Nombre d'élèves : 1\n",
      "Enseignant : Moreau, Nombre d'élèves : 1\n",
      "Enseignant : Petit, Nombre d'élèves : 1\n",
      "Enseignant : Robert, Nombre d'élèves : 1\n",
      "Enseignant : Richard, Nombre d'élèves : 1\n",
      "Enseignant : Simon, Nombre d'élèves : 3\n",
      "Enseignant : Dupont, Nombre d'élèves : 1\n",
      "Enseignant : Martin, Nombre d'élèves : 1\n"
     ]
    }
   ],
   "source": [
    "nb_etudiants={}\n",
    "cpt =0\n",
    "limite=0\n",
    "for a in etudiants_dict:\n",
    "    for b in enseignants_dict:\n",
    "        if a[\"numero_classe\"]==b[\"numero_classe\"]:\n",
    "            if b[\"nom\"] in nb_etudiants:\n",
    "                nb_etudiants[b[\"nom\"]]+=1\n",
    "        else:\n",
    "            nb_etudiants[b[\"nom\"]] = 1\n",
    "\n",
    "\n",
    "for enseignant, nb_etudiants in nb_etudiants.items():\n",
    "    print(f\"Enseignant : {enseignant}, Nombre d'élèves : {nb_etudiants}\")\n"
   ]
  },
  {
   "cell_type": "markdown",
   "metadata": {},
   "source": [
    "Etape 5 Automatisation de pipeline"
   ]
  },
  {
   "cell_type": "code",
   "execution_count": 9,
   "metadata": {},
   "outputs": [
    {
     "name": "stdout",
     "output_type": "stream",
     "text": [
      "Etudiant : Alice, Numero classe : 1, Enseignant : Dupont\n",
      "Etudiant : Alice, Numero classe : 1, Enseignant : Martin\n",
      "Etudiant : Thomas, Numero classe : 1, Enseignant : Dupont\n",
      "Etudiant : Thomas, Numero classe : 1, Enseignant : Martin\n",
      "Etudiant : Camille, Numero classe : 2, Enseignant : Durand\n",
      "Etudiant : Camille, Numero classe : 2, Enseignant : Bernard\n",
      "Etudiant : Lucas, Numero classe : 2, Enseignant : Durand\n",
      "Etudiant : Lucas, Numero classe : 2, Enseignant : Bernard\n",
      "Etudiant : Emma, Numero classe : 3, Enseignant : Moreau\n",
      "Etudiant : Emma, Numero classe : 3, Enseignant : Petit\n",
      "\n",
      "Nombre d'élèves par enseignant :\n",
      "Enseignant : Dupont, Nombre d'élèves : 2\n",
      "Enseignant : Martin, Nombre d'élèves : 2\n",
      "Enseignant : Durand, Nombre d'élèves : 2\n",
      "Enseignant : Bernard, Nombre d'élèves : 2\n",
      "Enseignant : Moreau, Nombre d'élèves : 2\n",
      "Enseignant : Petit, Nombre d'élèves : 2\n",
      "Enseignant : Robert, Nombre d'élèves : 2\n",
      "Enseignant : Richard, Nombre d'élèves : 2\n",
      "Enseignant : SALK, Nombre d'élèves : 2\n",
      "Enseignant : Simon, Nombre d'élèves : 2\n",
      "Enseignant : Lefebvre, Nombre d'élèves : 2\n",
      "Enseignant : Leclerc, Nombre d'élèves : 2\n",
      "Enseignant : Giraud, Nombre d'élèves : 2\n",
      "Enseignant : Roux, Nombre d'élèves : 2\n",
      "Enseignant : Faure, Nombre d'élèves : 2\n"
     ]
    }
   ],
   "source": [
    "def connect_to_db():\n",
    "        conn =  pymysql.connect(database='ecole', user='root', password='root', host='localhost')\n",
    "        return conn\n",
    "\n",
    "\n",
    "def extraire_data(conn):\n",
    "    cur = conn.cursor()\n",
    "    cur.execute(\"SELECT prenom, numero_classe FROM etudiants\")\n",
    "    etudiants_dict = cur.fetchmany(15)\n",
    "\n",
    "    cur.execute(\"SELECT nom, numero_classe FROM enseignants\")\n",
    "    enseignants_dict = cur.fetchmany(15)\n",
    "\n",
    "    return etudiants_dict, enseignants_dict\n",
    "\n",
    "\n",
    "def associe_data(etudiants_dict, enseignants_dict):\n",
    "    associe_dict = []\n",
    "    for etudiant in etudiants_dict:\n",
    "        for enseignant in enseignants_dict:\n",
    "            if etudiant[1] == enseignant[1]: \n",
    "                associe_dict.append({\n",
    "                    \"prenom\": etudiant[0],\n",
    "                    \"numero classe\": etudiant[1],\n",
    "                    \"enseignant\": enseignant[0]\n",
    "                })\n",
    "    return associe_dict\n",
    "\n",
    "def compteur_enseignant(associe_dict):\n",
    "    count_dict = {}\n",
    "    for association in associe_dict:\n",
    "        enseignant = association['enseignant']\n",
    "        if enseignant in count_dict:\n",
    "            count_dict[enseignant] += 1\n",
    "        else:\n",
    "            count_dict[enseignant] = 1\n",
    "    return count_dict\n",
    "\n",
    "def affiche_data(associe_dict, limit=10):\n",
    "    count = 0\n",
    "    for association in associe_dict:\n",
    "        print(f\"Etudiant : {association['prenom']}, Numero classe : {association['numero classe']}, Enseignant : {association['enseignant']}\")\n",
    "        count += 1\n",
    "        if count == limit:\n",
    "            break\n",
    "\n",
    "def la_classe(count_dict):\n",
    "    print(\"Nombre d'élèves par enseignant :\")\n",
    "    for enseignant, count in count_dict.items():\n",
    "        print(f\"Enseignant : {enseignant}, Nombre d'élèves : {count}\")\n",
    "\n",
    "        \n",
    "def close_connection(conn):\n",
    "    conn.close()\n",
    "\n",
    "\n",
    "def main():\n",
    "    conn = connect_to_db()\n",
    "    \n",
    "    if conn is None:\n",
    "        return\n",
    "    try:\n",
    "        etudiants_dict, enseignants_dict = extraire_data(conn)\n",
    "        associe_dict = associe_data(etudiants_dict, enseignants_dict)\n",
    "        affiche_data(associe_dict, limit=10)\n",
    "        count_dict = compteur_enseignant(associe_dict)\n",
    "        la_classe(count_dict)\n",
    "    finally:\n",
    "        close_connection(conn)\n",
    "\n",
    "if __name__ == '__main__':\n",
    "    main()\n"
   ]
  }
 ],
 "metadata": {
  "kernelspec": {
   "display_name": "first",
   "language": "python",
   "name": "python3"
  },
  "language_info": {
   "codemirror_mode": {
    "name": "ipython",
    "version": 3
   },
   "file_extension": ".py",
   "mimetype": "text/x-python",
   "name": "python",
   "nbconvert_exporter": "python",
   "pygments_lexer": "ipython3",
   "version": "3.10.11"
  }
 },
 "nbformat": 4,
 "nbformat_minor": 2
}
